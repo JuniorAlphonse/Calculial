{
 "cells": [
  {
   "cell_type": "code",
   "execution_count": 3,
   "id": "cd6fe2ec",
   "metadata": {},
   "outputs": [],
   "source": [
    "a = (-9.8);\n",
    "i = (-1)*(1/2);\n",
    "b = (0 * 1);\n",
    "c = ((3.1415 * i*5));\n",
    "d = ((a*2 + b*2 + c*2)*(1/2));\n",
    "e = (i*2);\n",
    "f = (1 * (-9.8) / (1/(2 * 3.1415)));\n",
    "g = (a * (-1));\n",
    "G = (6.67 * (10 * -11)) * ((f * (1*1))/(1*1))\n",
    "s = 300000000;\n",
    "h = ((1.5)*(1*3) * (s));\n",
    "j = ((0 + d)*3)"
   ]
  }
 ],
 "metadata": {
  "kernelspec": {
   "display_name": "Python 3",
   "language": "python",
   "name": "python3"
  },
  "language_info": {
   "codemirror_mode": {
    "name": "ipython",
    "version": 3
   },
   "file_extension": ".py",
   "mimetype": "text/x-python",
   "name": "python",
   "nbconvert_exporter": "python",
   "pygments_lexer": "ipython3",
   "version": "3.12.1"
  }
 },
 "nbformat": 4,
 "nbformat_minor": 5
}
